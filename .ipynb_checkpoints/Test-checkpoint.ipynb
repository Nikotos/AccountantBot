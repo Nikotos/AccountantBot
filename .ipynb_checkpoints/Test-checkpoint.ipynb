{
 "cells": [
  {
   "cell_type": "code",
   "execution_count": 1,
   "metadata": {},
   "outputs": [],
   "source": [
    "from model import *"
   ]
  },
  {
   "cell_type": "code",
   "execution_count": 2,
   "metadata": {},
   "outputs": [
    {
     "name": "stdout",
     "output_type": "stream",
     "text": [
      "01.01.2020\n",
      "incomes\n",
      "sales - 5000\n",
      "\n",
      "expenses\n",
      "worker_1 - 500\n",
      "electricity - 50\n"
     ]
    }
   ],
   "source": [
    "company = Company(\"Apple\")\n",
    "company.addPereodicExpense(\"worker_1\", 500)\n",
    "company.addPereodicExpense(\"electricity\", 50)\n",
    "\n",
    "company.createNewMonth(\"01.01.2020\")\n",
    "company.addIncomeToMonth(\"01.01.2020\", \"sales\", 5000)\n",
    "company.addExpenseToMonth(\"01.01.2020\", \"electricity\", 250)\n",
    "\n",
    "company.getMonthData(\"01.01.2020\")"
   ]
  },
  {
   "cell_type": "code",
   "execution_count": 12,
   "metadata": {},
   "outputs": [],
   "source": [
    "auth = {\"admin\": \"pedik\"}\n",
    "with open(\"auth.pkl\",\"wb\") as f:\n",
    "    pickle.dump(auth, f)\n",
    "    f.close()"
   ]
  },
  {
   "cell_type": "code",
   "execution_count": 15,
   "metadata": {},
   "outputs": [
    {
     "data": {
      "text/plain": [
       "{'admin': 'pedik'}"
      ]
     },
     "execution_count": 15,
     "metadata": {},
     "output_type": "execute_result"
    }
   ],
   "source": [
    "with open('auth.pkl', 'rb') as f:\n",
    "    auth = pickle.load(f)\n",
    "    \n",
    "auth"
   ]
  },
  {
   "cell_type": "code",
   "execution_count": 17,
   "metadata": {},
   "outputs": [],
   "source": [
    "import csv\n",
    "\n",
    "auth = {\"admin\": \"pedik\", \"user1\" : \"pwd1\", \"user2\" : \"pwd2\"}\n",
    "w = csv.writer(open(\"output.csv\", \"w\"))\n",
    "for key, val in auth.items():\n",
    "    w.writerow([key, val])"
   ]
  },
  {
   "cell_type": "code",
   "execution_count": null,
   "metadata": {},
   "outputs": [],
   "source": []
  }
 ],
 "metadata": {
  "kernelspec": {
   "display_name": "Python 3",
   "language": "python",
   "name": "python3"
  },
  "language_info": {
   "codemirror_mode": {
    "name": "ipython",
    "version": 3
   },
   "file_extension": ".py",
   "mimetype": "text/x-python",
   "name": "python",
   "nbconvert_exporter": "python",
   "pygments_lexer": "ipython3",
   "version": "3.7.4"
  }
 },
 "nbformat": 4,
 "nbformat_minor": 4
}
